{
 "cells": [
  {
   "cell_type": "markdown",
   "metadata": {},
   "source": [
    "# Minicurso Introdução à programação em Python 3\n",
    "## Com ênfase em aplicações numéricas\n",
    "### Instrutor: João Eduardo Levandoski - Acadêmico de Engenharia Química\n",
    "### Bolsista CNPq - Brazilian synchrotron light source (LNLS) - IMBUIA Beam Line"
   ]
  },
  {
   "cell_type": "markdown",
   "metadata": {},
   "source": [
    "### Software utilizado\n",
    "#### [Anaconda 3](https://www.anaconda.com/distribution/)\n",
    "#### Versão do pyhton (verificar)\n",
    "```\n",
    "python --version\n",
    "```\n",
    "#### Contagem regressiva do [Python 2](https://pythonclock.org/)\n"
   ]
  },
  {
   "cell_type": "markdown",
   "metadata": {},
   "source": [
    "## Curiosidades\n",
    "### [Nome](https://youtu.be/Owxt5TUJKVA)\n",
    "### [Ponto e vírgula](https://scontent.fbfh3-1.fna.fbcdn.net/v/t1.0-9/49046413_749801262052982_2383082451229474816_n.jpg?_nc_cat=100&_nc_oc=AQk8dF19xQyxZTbALVxdTs72fJafnV-Te0Agu2zibsL3dUWKxrs31n40oexrI5ztBTk&_nc_ht=scontent.fbfh3-1.fna&oh=3b8cabbaabe965519ca710e005bd5ea7&oe=5D87C936)\n",
    "### [C --> Python](https://scontent.fbfh3-2.fna.fbcdn.net/v/t1.0-9/61905486_2285562288373500_4149813872594780160_n.jpg?_nc_cat=108&_nc_oc=AQnRW_5uDGTkqRmwQBS6JM423GlhS7D0lLXKWSSXNtVFTsvdMKiLHFVfsuH9QyJhmpo&_nc_ht=scontent.fbfh3-2.fna&oh=b353abe1ab80e159461fdc8464861a8c&oe=5D9852F1)\n",
    "### Estatísticas:\n",
    "#### [Olhar Digital](https://olhardigital.com.br/noticia/as-10-linguagens-de-programacao-mais-populares-do-mundo-em-2018/74538)\n",
    "#### [Dev Media](https://www.devmedia.com.br/top-10-linguagens-de-programacao-mais-usadas-no-mercado/39635)\n",
    "#### [W Tricks](https://wtricks.com.br/linguagens-de-programacao-populares-2018/)\n"
   ]
  },
  {
   "cell_type": "code",
   "execution_count": null,
   "metadata": {},
   "outputs": [],
   "source": []
  }
 ],
 "metadata": {
  "kernelspec": {
   "display_name": "Python 3",
   "language": "python",
   "name": "python3"
  },
  "language_info": {
   "codemirror_mode": {
    "name": "ipython",
    "version": 3
   },
   "file_extension": ".py",
   "mimetype": "text/x-python",
   "name": "python",
   "nbconvert_exporter": "python",
   "pygments_lexer": "ipython3",
   "version": "3.6.8"
  }
 },
 "nbformat": 4,
 "nbformat_minor": 2
}
