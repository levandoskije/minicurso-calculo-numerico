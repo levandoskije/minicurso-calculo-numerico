{
 "cells": [
  {
   "cell_type": "markdown",
   "metadata": {},
   "source": [
    "# Minicurso Introdução à programação em Python 3\n",
    "## Com ênfase em aplicações numéricas\n",
    "### Instrutor: João Eduardo Levandoski - Acadêmico de Engenharia Química\n",
    "### Bolsista CNPq - Brazilian synchrotron light source (LNLS) - IMBUIA Beam Line\n",
    "[Vídeo Ciência Aberta](https://youtu.be/TS-3j783EJo)  \n",
    "[Vídeo controle da luz](https://youtu.be/oZFGuXtiBgo)"
   ]
  },
  {
   "cell_type": "markdown",
   "metadata": {},
   "source": [
    "### Software utilizado\n",
    "#### [Anaconda 3](https://www.anaconda.com/distribution/)\n",
    "#### Versão do pyhton (verificar)\n",
    "```\n",
    "python --version\n",
    "```\n",
    "#### Contagem regressiva do [Python 2](https://pythonclock.org/)\n"
   ]
  },
  {
   "cell_type": "markdown",
   "metadata": {},
   "source": [
    "## Estatísticas:\n",
    "<!--#### [Olhar Digital](https://olhardigital.com.br/noticia/as-10-linguagens-de-programacao-mais-populares-do-mundo-em-2018/74538)-->\n",
    "#### [Dev Media](https://www.devmedia.com.br/top-10-linguagens-de-programacao-mais-usadas-no-mercado/39635)\n",
    "#### [W Tricks](https://wtricks.com.br/linguagens-de-programacao-populares-2018/)\n",
    "#### [PTI](https://www.profissionaisti.com.br/2019/01/7-linguagens-de-programacao-para-voce-aprender-em-2019/)\n",
    "#### [WMC](https://medium.com/womakerscode/top-5-linguagens-para-2019-28df8aee7d10)\n"
   ]
  },
  {
   "cell_type": "markdown",
   "metadata": {},
   "source": [
    "## Instalação de pacotes via [conda](https://anaconda.org/conda-forge/repo)\n",
    "## Instalação de pacotes via [pip](https://pypi.org/)"
   ]
  },
  {
   "cell_type": "markdown",
   "metadata": {},
   "source": [
    "## Princípios\n"
   ]
  },
  {
   "cell_type": "markdown",
   "metadata": {},
   "source": [
    "#### A linguagem foi projetada com a filosofia de enfatizar a importância do esforço do programador sobre o esforço computacional.\n",
    "#### Prioriza a legibilidade do código sobre a velocidade ou expressividade. \n",
    "#### Combina uma sintaxe concisa e clara com os recursos poderosos de sua biblioteca padrão e por módulos e frameworks desenvolvidos por terceiros.\n",
    "#### Liguagem dinâmica de tipagem forte"
   ]
  },
  {
   "cell_type": "code",
   "execution_count": 1,
   "metadata": {},
   "outputs": [],
   "source": [
    "# Exemplo variáveis"
   ]
  },
  {
   "cell_type": "markdown",
   "metadata": {},
   "source": [
    "### Python é provavelmente a linguagem mais usada no mundo por não programadores"
   ]
  },
  {
   "cell_type": "code",
   "execution_count": null,
   "metadata": {},
   "outputs": [],
   "source": [
    "#The Zen of Python\n",
    "# import this"
   ]
  },
  {
   "cell_type": "markdown",
   "metadata": {},
   "source": [
    "## Zen traduzido interpretação [livre](https://hacktoon.com/log/2015/programming-comics-3/)"
   ]
  },
  {
   "cell_type": "markdown",
   "metadata": {},
   "source": [
    "# Sintaxe básica\n",
    "# Não é preciso declarar variáveis\n",
    "### Tipos de variáveis mais usadas\n",
    "#### str = string\n",
    "#### float = real\n",
    "#### int = inteiro\n",
    "#### complex = números complexos\n",
    "#### bool = True or False\n",
    "#### list = Lista mutáveis [algo, ] \n",
    "#### tuple = \"lista\" imutáveis (algo, )\n",
    "#### set = conjuntos de elementos não repetidos  {algo, algo}\n",
    "#### dict = dicinário chave valor {chave: valor, }"
   ]
  },
  {
   "cell_type": "code",
   "execution_count": 3,
   "metadata": {},
   "outputs": [],
   "source": [
    "# Exemplo de list, dic, tuple, set"
   ]
  },
  {
   "cell_type": "markdown",
   "metadata": {},
   "source": [
    "## Saída\n",
    "\n",
    "### print()\n",
    "\n",
    "## Entrada\n",
    "\n",
    "### input()"
   ]
  },
  {
   "cell_type": "code",
   "execution_count": 4,
   "metadata": {},
   "outputs": [],
   "source": [
    "# Exemplo Saída"
   ]
  },
  {
   "cell_type": "code",
   "execution_count": 5,
   "metadata": {},
   "outputs": [],
   "source": [
    "# Exemplo entrada str, int, float"
   ]
  },
  {
   "cell_type": "markdown",
   "metadata": {},
   "source": [
    "# Separação de blocos de códigos "
   ]
  },
  {
   "cell_type": "markdown",
   "metadata": {},
   "source": [
    "## Condicionais e estruturas de repetição\n",
    "### if\n",
    "### while\n",
    "### for\n",
    "\n",
    "## Operadores\n",
    "\n",
    "### + Soma ou Concatenação\n",
    "### - Subtração\n",
    "### * Multiplicação\n",
    "### / Divisão\n",
    "### // Divisão de inteiros \n",
    "### ** Exponenciação\n",
    "### % Módulo da divisão de inteiros (resto)\n",
    "### = Atribuição, coloca o resultado da expressão a direita na identicação (variável) a esquerda"
   ]
  },
  {
   "cell_type": "code",
   "execution_count": 12,
   "metadata": {},
   "outputs": [],
   "source": [
    "# Exemplo de condicional, pode ser ver se o número é maior ou menor"
   ]
  },
  {
   "cell_type": "code",
   "execution_count": 13,
   "metadata": {},
   "outputs": [],
   "source": [
    "# Exemplo de for com algum range()"
   ]
  },
  {
   "cell_type": "code",
   "execution_count": null,
   "metadata": {},
   "outputs": [],
   "source": [
    "# Exemplo de while com um True e esperando um número do usuário, var.isnumeric "
   ]
  },
  {
   "cell_type": "markdown",
   "metadata": {},
   "source": [
    "## Álgebra linear"
   ]
  },
  {
   "cell_type": "code",
   "execution_count": 35,
   "metadata": {},
   "outputs": [],
   "source": [
    "import numpy as np\n",
    "import numpy.linalg as alg\n",
    "from decimal import Decimal as dc"
   ]
  },
  {
   "cell_type": "code",
   "execution_count": 36,
   "metadata": {},
   "outputs": [],
   "source": [
    "# Exemplo de matriz\n",
    "# A = np.array([[4,5,6], [10, 25, 89], [67, 9, 5]])"
   ]
  },
  {
   "cell_type": "code",
   "execution_count": 37,
   "metadata": {},
   "outputs": [],
   "source": [
    "# B = np.array([[4], [5], [5]])"
   ]
  },
  {
   "cell_type": "code",
   "execution_count": 38,
   "metadata": {},
   "outputs": [],
   "source": [
    "# A*B #\n",
    "# A@B #"
   ]
  },
  {
   "cell_type": "code",
   "execution_count": null,
   "metadata": {},
   "outputs": [],
   "source": [
    "# from numpy import array as mat"
   ]
  },
  {
   "cell_type": "code",
   "execution_count": 40,
   "metadata": {},
   "outputs": [],
   "source": [
    "# a =mat([[4,5,6],[7,8,9]])\n",
    "# a"
   ]
  },
  {
   "cell_type": "code",
   "execution_count": null,
   "metadata": {},
   "outputs": [],
   "source": [
    "# alg.solve(A, B)"
   ]
  },
  {
   "cell_type": "code",
   "execution_count": null,
   "metadata": {},
   "outputs": [],
   "source": [
    "# A.transpose()"
   ]
  },
  {
   "cell_type": "code",
   "execution_count": null,
   "metadata": {},
   "outputs": [],
   "source": [
    "# alg.inv(A)"
   ]
  },
  {
   "cell_type": "code",
   "execution_count": null,
   "metadata": {},
   "outputs": [],
   "source": []
  },
  {
   "cell_type": "code",
   "execution_count": null,
   "metadata": {},
   "outputs": [],
   "source": []
  },
  {
   "cell_type": "markdown",
   "metadata": {},
   "source": [
    "## Curiosidades\n",
    "### [Nome](https://youtu.be/Owxt5TUJKVA)\n",
    "<!--### [Ponto e vírgula](https://scontent.fbfh3-1.fna.fbcdn.net/v/t1.0-9/49046413_749801262052982_2383082451229474816_n.jpg?_nc_cat=100&_nc_oc=AQk8dF19xQyxZTbALVxdTs72fJafnV-Te0Agu2zibsL3dUWKxrs31n40oexrI5ztBTk&_nc_ht=scontent.fbfh3-1.fna&oh=3b8cabbaabe965519ca710e005bd5ea7&oe=5D87C936)-->\n",
    "### [C --> Python](https://scontent.fbfh3-2.fna.fbcdn.net/v/t1.0-9/61905486_2285562288373500_4149813872594780160_n.jpg?_nc_cat=108&_nc_oc=AQnRW_5uDGTkqRmwQBS6JM423GlhS7D0lLXKWSSXNtVFTsvdMKiLHFVfsuH9QyJhmpo&_nc_ht=scontent.fbfh3-2.fna&oh=b353abe1ab80e159461fdc8464861a8c&oe=5D9852F1)\n"
   ]
  }
 ],
 "metadata": {
  "kernelspec": {
   "display_name": "Python 3",
   "language": "python",
   "name": "python3"
  },
  "language_info": {
   "codemirror_mode": {
    "name": "ipython",
    "version": 3
   },
   "file_extension": ".py",
   "mimetype": "text/x-python",
   "name": "python",
   "nbconvert_exporter": "python",
   "pygments_lexer": "ipython3",
   "version": "3.6.8"
  }
 },
 "nbformat": 4,
 "nbformat_minor": 2
}
